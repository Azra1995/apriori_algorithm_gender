{
 "cells": [
  {
   "cell_type": "code",
   "execution_count": 1,
   "metadata": {},
   "outputs": [],
   "source": [
    "import pandas as pd\n",
    "import xlrd\n",
    "from mlxtend.preprocessing import TransactionEncoder\n",
    "import numpy as np\n",
    "from mlxtend.frequent_patterns import apriori\n",
    "from mlxtend.frequent_patterns import association_rules\n",
    "import plotly.express as px"
   ]
  },
  {
   "cell_type": "code",
   "execution_count": 2,
   "metadata": {},
   "outputs": [],
   "source": [
    "data = pd.read_excel ('set.xlsx', sheet_name='Sheet6', engine='openpyxl')"
   ]
  },
  {
   "cell_type": "code",
   "execution_count": 3,
   "metadata": {},
   "outputs": [
    {
     "data": {
      "text/html": [
       "<div>\n",
       "<style scoped>\n",
       "    .dataframe tbody tr th:only-of-type {\n",
       "        vertical-align: middle;\n",
       "    }\n",
       "\n",
       "    .dataframe tbody tr th {\n",
       "        vertical-align: top;\n",
       "    }\n",
       "\n",
       "    .dataframe thead th {\n",
       "        text-align: right;\n",
       "    }\n",
       "</style>\n",
       "<table border=\"1\" class=\"dataframe\">\n",
       "  <thead>\n",
       "    <tr style=\"text-align: right;\">\n",
       "      <th></th>\n",
       "      <th>InvoiceNo</th>\n",
       "      <th>Product</th>\n",
       "      <th>Quantity</th>\n",
       "      <th>Gender</th>\n",
       "    </tr>\n",
       "  </thead>\n",
       "  <tbody>\n",
       "    <tr>\n",
       "      <th>0</th>\n",
       "      <td>1</td>\n",
       "      <td>Mlijeko</td>\n",
       "      <td>1</td>\n",
       "      <td>Female</td>\n",
       "    </tr>\n",
       "    <tr>\n",
       "      <th>1</th>\n",
       "      <td>1</td>\n",
       "      <td>Voda</td>\n",
       "      <td>1</td>\n",
       "      <td>Female</td>\n",
       "    </tr>\n",
       "    <tr>\n",
       "      <th>2</th>\n",
       "      <td>1</td>\n",
       "      <td>Sokovi</td>\n",
       "      <td>1</td>\n",
       "      <td>Female</td>\n",
       "    </tr>\n",
       "    <tr>\n",
       "      <th>3</th>\n",
       "      <td>1</td>\n",
       "      <td>Kafa</td>\n",
       "      <td>1</td>\n",
       "      <td>Female</td>\n",
       "    </tr>\n",
       "    <tr>\n",
       "      <th>4</th>\n",
       "      <td>1</td>\n",
       "      <td>Čokolade</td>\n",
       "      <td>1</td>\n",
       "      <td>Female</td>\n",
       "    </tr>\n",
       "  </tbody>\n",
       "</table>\n",
       "</div>"
      ],
      "text/plain": [
       "   InvoiceNo   Product  Quantity  Gender\n",
       "0          1   Mlijeko         1  Female\n",
       "1          1      Voda         1  Female\n",
       "2          1    Sokovi         1  Female\n",
       "3          1      Kafa         1  Female\n",
       "4          1  Čokolade         1  Female"
      ]
     },
     "execution_count": 3,
     "metadata": {},
     "output_type": "execute_result"
    }
   ],
   "source": [
    "data.head()"
   ]
  },
  {
   "cell_type": "code",
   "execution_count": 4,
   "metadata": {},
   "outputs": [
    {
     "data": {
      "text/plain": [
       "Index(['InvoiceNo', 'Product', 'Quantity', 'Gender'], dtype='object')"
      ]
     },
     "execution_count": 4,
     "metadata": {},
     "output_type": "execute_result"
    }
   ],
   "source": [
    "data.columns"
   ]
  },
  {
   "cell_type": "code",
   "execution_count": 5,
   "metadata": {},
   "outputs": [
    {
     "data": {
      "text/plain": [
       "array(['Mlijeko', 'Voda', 'Sokovi', 'Kafa', 'Čokolade', 'Bombone', 'Keks',\n",
       "       'Vegeta', 'So', 'Supa', 'Brašno', 'Ulje', 'Tjestenina', 'Začini',\n",
       "       'Sir', 'Jogurt', 'Piletina', 'Teletina', 'Gljive', 'Jabuke',\n",
       "       'Kruške', 'Banane', 'Limun', 'Narandža', 'Čips', 'Kolači',\n",
       "       'Deterdžent', 'Omekšivač', 'Šampon', 'Regenerator', 'Sapun',\n",
       "       'Sredstvazačišćenje', 'Krompir', 'Luk', 'Kupus', 'Paradajz',\n",
       "       'Krastavac', 'Kiselasalata', 'Salata', 'Šećer', 'Nescafe',\n",
       "       'Alkoholnapića', 'Pastazazube', 'Toaletpapir', 'Riža', 'Kukuruz',\n",
       "       'Kreme', 'Smoki', 'Grisini', 'Kikiriki', 'Kokice', 'Žvake',\n",
       "       'Mineralnavoda', 'Ostalagaziranapića', 'Puding', 'Šlag',\n",
       "       'Vrhnjezakuhanje', 'Kockazakafu', 'Puder', 'Maskara', 'Labelo',\n",
       "       'Četkazakosu', 'Parfem', 'Lakzanokte', 'Lakzakosu', 'Aceton',\n",
       "       'Energetskapića', 'Lijekovi', 'Biljnipreparati', 'Čajevi', 'Jaja',\n",
       "       'Hljeb', 'Sjajzausne', 'Karmin', 'Korektor'], dtype=object)"
      ]
     },
     "execution_count": 5,
     "metadata": {},
     "output_type": "execute_result"
    }
   ],
   "source": [
    "data.Product.unique()"
   ]
  },
  {
   "cell_type": "code",
   "execution_count": 6,
   "metadata": {},
   "outputs": [
    {
     "data": {
      "text/plain": [
       "array(['Female', 'Male'], dtype=object)"
      ]
     },
     "execution_count": 6,
     "metadata": {},
     "output_type": "execute_result"
    }
   ],
   "source": [
    "data.Gender.unique()"
   ]
  },
  {
   "cell_type": "code",
   "execution_count": 7,
   "metadata": {},
   "outputs": [],
   "source": [
    "data['Product'] = data['Product'].str.strip()"
   ]
  },
  {
   "cell_type": "code",
   "execution_count": 8,
   "metadata": {},
   "outputs": [],
   "source": [
    "data.dropna(axis = 0, subset =['InvoiceNo'], inplace = True)\n",
    "data['InvoiceNo'] = data['InvoiceNo'].astype('str')"
   ]
  },
  {
   "cell_type": "code",
   "execution_count": 9,
   "metadata": {},
   "outputs": [],
   "source": [
    "# Buyings for Female\n",
    "basket_Female = (data[data['Gender'] ==\"Female\"]\n",
    "          .groupby(['InvoiceNo', 'Product'])['Quantity']\n",
    "          .sum().unstack().reset_index().fillna(0)\n",
    "          .set_index('InvoiceNo'))"
   ]
  },
  {
   "cell_type": "code",
   "execution_count": 10,
   "metadata": {},
   "outputs": [],
   "source": [
    "# Buyings for Male\n",
    "basket_Male = (data[data['Gender'] ==\"Male\"]\n",
    "          .groupby(['InvoiceNo', 'Product'])['Quantity']\n",
    "          .sum().unstack().reset_index().fillna(0)\n",
    "          .set_index('InvoiceNo'))"
   ]
  },
  {
   "cell_type": "code",
   "execution_count": 11,
   "metadata": {},
   "outputs": [],
   "source": [
    "# Defining the hot encoding function to make the data suitable\n",
    "# for the concerned libraries\n",
    "def hot_encode(x):\n",
    "    if(x<= 0):\n",
    "        return 0\n",
    "    if(x>= 1):\n",
    "        return 1\n",
    " \n",
    "# Encoding the datasets\n",
    "basket_encoded = basket_Female.applymap(hot_encode)\n",
    "basket_Female = basket_encoded\n",
    " \n",
    "basket_encoded = basket_Male.applymap(hot_encode)\n",
    "basket_Male = basket_encoded\n",
    " "
   ]
  },
  {
   "cell_type": "code",
   "execution_count": 21,
   "metadata": {},
   "outputs": [
    {
     "name": "stdout",
     "output_type": "stream",
     "text": [
      "              antecedents    consequents  antecedent support  \\\n",
      "80     (Piletina, Brašno)         (Ulje)            0.508197   \n",
      "7                (Brašno)         (Ulje)            0.590164   \n",
      "56                  (Sir)  (Toaletpapir)            0.524590   \n",
      "74      (Brašno, Mlijeko)         (Ulje)            0.524590   \n",
      "86  (Šampon, Toaletpapir)   (Deterdžent)            0.540984   \n",
      "\n",
      "    consequent support   support  confidence      lift  leverage  conviction  \n",
      "80            0.639344  0.508197    1.000000  1.564103  0.183284         inf  \n",
      "7             0.639344  0.573770    0.972222  1.520655  0.196453   12.983607  \n",
      "56            0.639344  0.508197    0.968750  1.515224  0.172803   11.540984  \n",
      "74            0.639344  0.508197    0.968750  1.515224  0.172803   11.540984  \n",
      "86            0.606557  0.508197    0.939394  1.548731  0.180059    6.491803  \n"
     ]
    }
   ],
   "source": [
    "# Building the model for Female\n",
    "frq_items = apriori(basket_Female, min_support = 0.5, use_colnames = True)\n",
    " \n",
    "# Collecting the inferred rules in a dataframe\n",
    "rules = association_rules(frq_items, metric =\"lift\", min_threshold = 1)\n",
    "rules = rules.sort_values(['confidence', 'lift'], ascending =[False, False])\n",
    "print(rules.head())"
   ]
  },
  {
   "cell_type": "code",
   "execution_count": 19,
   "metadata": {},
   "outputs": [
    {
     "name": "stdout",
     "output_type": "stream",
     "text": [
      "         antecedents consequents  antecedent support  consequent support  \\\n",
      "14  (Hljeb, Mlijeko)      (Kafa)            0.615385            0.846154   \n",
      "1            (Hljeb)      (Kafa)            0.717949            0.846154   \n",
      "7       (Tjestenina)      (Kafa)            0.615385            0.846154   \n",
      "13   (Kafa, Mlijeko)     (Hljeb)            0.666667            0.717949   \n",
      "12     (Kafa, Hljeb)   (Mlijeko)            0.666667            0.769231   \n",
      "\n",
      "     support  confidence      lift  leverage  conviction  \n",
      "14  0.589744    0.958333  1.132576  0.069034    3.692308  \n",
      "1   0.666667    0.928571  1.097403  0.059172    2.153846  \n",
      "7   0.564103    0.916667  1.083333  0.043393    1.846154  \n",
      "13  0.589744    0.884615  1.232143  0.111111    2.444444  \n",
      "12  0.589744    0.884615  1.150000  0.076923    2.000000  \n"
     ]
    }
   ],
   "source": [
    "# Building the model for Male\n",
    "frq_items = apriori(basket_Male, min_support = 0.5, use_colnames = True)\n",
    " \n",
    "# Collecting the inferred rules in a dataframe\n",
    "rules = association_rules(frq_items, metric =\"lift\", min_threshold = 1)\n",
    "rules = rules.sort_values(['confidence', 'lift'], ascending =[False, False])\n",
    "print(rules.head())"
   ]
  },
  {
   "cell_type": "code",
   "execution_count": null,
   "metadata": {},
   "outputs": [],
   "source": []
  }
 ],
 "metadata": {
  "kernelspec": {
   "display_name": "Python 3",
   "language": "python",
   "name": "python3"
  },
  "language_info": {
   "codemirror_mode": {
    "name": "ipython",
    "version": 3
   },
   "file_extension": ".py",
   "mimetype": "text/x-python",
   "name": "python",
   "nbconvert_exporter": "python",
   "pygments_lexer": "ipython3",
   "version": "3.9.0"
  }
 },
 "nbformat": 4,
 "nbformat_minor": 4
}
